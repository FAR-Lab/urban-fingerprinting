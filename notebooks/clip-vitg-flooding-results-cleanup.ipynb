{
 "cells": [
  {
   "cell_type": "code",
   "execution_count": 2,
   "metadata": {},
   "outputs": [],
   "source": [
    "import pandas as pd \n",
    "import os"
   ]
  },
  {
   "cell_type": "code",
   "execution_count": 3,
   "metadata": {},
   "outputs": [],
   "source": [
    "clip_vitg_flooding = pd.read_csv(\"/share/ju/urbanECG/output/open_clip/inference_results/2023-09-29/results.txt\", header=None)"
   ]
  },
  {
   "cell_type": "code",
   "execution_count": 4,
   "metadata": {},
   "outputs": [],
   "source": [
    "# trim leading whitespace from seond column\n",
    "clip_vitg_flooding[1] = clip_vitg_flooding[1].str.strip()"
   ]
  },
  {
   "cell_type": "code",
   "execution_count": null,
   "metadata": {},
   "outputs": [],
   "source": []
  },
  {
   "cell_type": "code",
   "execution_count": 5,
   "metadata": {},
   "outputs": [],
   "source": [
    "# split second column into two columns \n",
    "clip_vitg_flooding[['img_id', 'flooded_road']] = clip_vitg_flooding[1].str.split(\" \", expand=True)"
   ]
  },
  {
   "cell_type": "code",
   "execution_count": 6,
   "metadata": {},
   "outputs": [],
   "source": [
    "# drop second column\n",
    "clip_vitg_flooding = clip_vitg_flooding.drop(columns=[1])"
   ]
  },
  {
   "cell_type": "code",
   "execution_count": 7,
   "metadata": {},
   "outputs": [],
   "source": [
    "clip_vitg_flooding.columns = ['img_path', 'wet_road', 'dry_road', 'no_road', 'img_id', 'flooded_road']"
   ]
  },
  {
   "cell_type": "code",
   "execution_count": 8,
   "metadata": {},
   "outputs": [],
   "source": [
    "# move img_id and flooded_road columns to front\n",
    "clip_vitg_flooding = clip_vitg_flooding[['img_id', 'img_path', 'flooded_road', 'wet_road', 'dry_road', 'no_road']]"
   ]
  },
  {
   "cell_type": "code",
   "execution_count": 9,
   "metadata": {},
   "outputs": [],
   "source": [
    "os.makedirs('/share/ju/urbanECG/output/open_clip/flooding', exist_ok=True)\n",
    "clip_vitg_flooding.to_csv('/share/ju/urbanECG/output/open_clip/flooding/clip_vitg_flooding_results.csv', index=False)"
   ]
  },
  {
   "cell_type": "code",
   "execution_count": null,
   "metadata": {},
   "outputs": [],
   "source": [
    "# compute percentile of road flooded\n",
    "clip_vitg_flooding['flooded_road'] = clip_vitg_flooding['flooded_road'].astype(float)\n",
    "clip_vitg_flooding['flooded_road_percentile'] = clip_vitg_flooding['flooded_road'].rank(pct=True)\n",
    "\n",
    "# compute percentile of wet road\n",
    "clip_vitg_flooding['wet_road'] = clip_vitg_flooding['wet_road'].astype(float)\n",
    "clip_vitg_flooding['wet_road_percentile'] = clip_vitg_flooding['wet_road'].rank(pct=True)\n",
    "\n",
    "# compute percentile of dry road\n",
    "clip_vitg_flooding['dry_road'] = clip_vitg_flooding['dry_road'].astype(float)\n",
    "clip_vitg_flooding['dry_road_percentile'] = clip_vitg_flooding['dry_road'].rank(pct=True)\n",
    "\n",
    "# compute percentile of no road\n",
    "clip_vitg_flooding['no_road'] = clip_vitg_flooding['no_road'].astype(float)\n",
    "clip_vitg_flooding['no_road_percentile'] = clip_vitg_flooding['no_road'].rank(pct=True)\n",
    "\n",
    "# sum up wet_road, dry_road, no_road and store in 'not_flooded' column \n",
    "clip_vitg_flooding['not_flooded'] = clip_vitg_flooding['wet_road'] + clip_vitg_flooding['dry_road'] + clip_vitg_flooding['no_road']\n",
    "\n",
    "# compute percentile of not flooded\n",
    "clip_vitg_flooding['not_flooded'] = clip_vitg_flooding['not_flooded'].astype(float)\n",
    "clip_vitg_flooding['not_flooded_percentile'] = clip_vitg_flooding['not_flooded'].rank(pct=True)\n",
    "\n",
    "clip_vitg_flooding.to_csv('/share/ju/urbanECG/output/open_clip/flooding/clip_vitg_flooding_results.csv', index=False)\n"
   ]
  },
  {
   "cell_type": "code",
   "execution_count": 1,
   "metadata": {},
   "outputs": [
    {
     "ename": "NameError",
     "evalue": "name 'clip_vitg_flooding' is not defined",
     "output_type": "error",
     "traceback": [
      "\u001b[0;31m---------------------------------------------------------------------------\u001b[0m",
      "\u001b[0;31mNameError\u001b[0m                                 Traceback (most recent call last)",
      "\u001b[1;32m/share/ju/urbanECG/notebooks/clip-vitg-flooding-results-cleanup.ipynb Cell 11\u001b[0m line \u001b[0;36m2\n\u001b[1;32m      <a href='vscode-notebook-cell://ssh-remote%2Bklara/share/ju/urbanECG/notebooks/clip-vitg-flooding-results-cleanup.ipynb#X13sdnNjb2RlLXJlbW90ZQ%3D%3D?line=0'>1</a>\u001b[0m \u001b[39m# print number of images with flooded road > 0.83 \u001b[39;00m\n\u001b[0;32m----> <a href='vscode-notebook-cell://ssh-remote%2Bklara/share/ju/urbanECG/notebooks/clip-vitg-flooding-results-cleanup.ipynb#X13sdnNjb2RlLXJlbW90ZQ%3D%3D?line=1'>2</a>\u001b[0m \u001b[39mprint\u001b[39m(\u001b[39m'\u001b[39m\u001b[39mNumber of images with flooded road > 0.83: \u001b[39m\u001b[39m'\u001b[39m, clip_vitg_flooding[clip_vitg_flooding[\u001b[39m'\u001b[39m\u001b[39mflooded_road\u001b[39m\u001b[39m'\u001b[39m] \u001b[39m>\u001b[39m \u001b[39m0.15\u001b[39m]\u001b[39m.\u001b[39mshape[\u001b[39m0\u001b[39m])\n",
      "\u001b[0;31mNameError\u001b[0m: name 'clip_vitg_flooding' is not defined"
     ]
    }
   ],
   "source": [
    "# print number of images with flooded road > 0.83 \n",
    "print('Number of images with flooded road > 0.83: ', clip_vitg_flooding[clip_vitg_flooding['flooded_road'] > 0.15].shape[0])"
   ]
  },
  {
   "cell_type": "code",
   "execution_count": 10,
   "metadata": {},
   "outputs": [],
   "source": [
    "# print top 250 images with highest percentile of road flooded\n",
    "clip_vitg_flooding = clip_vitg_flooding.sort_values(by=['flooded_road_percentile'], ascending=False)\n",
    "clip_vitg_flooding[['img_path', 'flooded_road_percentile']].head(250).to_csv('/share/ju/urbanECG/output/open_clip/flooding/top250_flooded.csv')\n"
   ]
  },
  {
   "cell_type": "code",
   "execution_count": 11,
   "metadata": {},
   "outputs": [],
   "source": [
    "# print top 250 images with highest percentile of wet road\n",
    "clip_vitg_flooding = clip_vitg_flooding.sort_values(by=['wet_road_percentile'], ascending=False)\n",
    "clip_vitg_flooding[['img_path', 'wet_road_percentile']].head(250).to_csv('/share/ju/urbanECG/output/open_clip/flooding/top250_wet.csv')"
   ]
  },
  {
   "cell_type": "code",
   "execution_count": 12,
   "metadata": {},
   "outputs": [],
   "source": [
    "# print top 250 images with highest percentile of dry road\n",
    "clip_vitg_flooding = clip_vitg_flooding.sort_values(by=['dry_road_percentile'], ascending=False)\n",
    "clip_vitg_flooding[['img_path', 'dry_road_percentile']].head(250).to_csv('/share/ju/urbanECG/output/open_clip/flooding/top250_dry.csv')\n"
   ]
  },
  {
   "cell_type": "code",
   "execution_count": 13,
   "metadata": {},
   "outputs": [],
   "source": [
    "# print top 250 images with highest percentile of no road\n",
    "clip_vitg_flooding = clip_vitg_flooding.sort_values(by=['no_road_percentile'], ascending=False)\n",
    "clip_vitg_flooding[['img_path', 'no_road_percentile']].head(250).to_csv('/share/ju/urbanECG/output/open_clip/flooding/top250_no_road.csv')"
   ]
  },
  {
   "cell_type": "code",
   "execution_count": null,
   "metadata": {},
   "outputs": [],
   "source": []
  }
 ],
 "metadata": {
  "kernelspec": {
   "display_name": "Python 3",
   "language": "python",
   "name": "python3"
  },
  "language_info": {
   "codemirror_mode": {
    "name": "ipython",
    "version": 3
   },
   "file_extension": ".py",
   "mimetype": "text/x-python",
   "name": "python",
   "nbconvert_exporter": "python",
   "pygments_lexer": "ipython3",
   "version": "3.11.5"
  }
 },
 "nbformat": 4,
 "nbformat_minor": 2
}

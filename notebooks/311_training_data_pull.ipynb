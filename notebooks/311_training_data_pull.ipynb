{
 "cells": [
  {
   "cell_type": "code",
   "execution_count": 1,
   "metadata": {},
   "outputs": [],
   "source": [
    "import os \n",
    "import sys \n",
    "import glob \n",
    "import pandas as pd \n",
    "import geopandas as gpd\n",
    "from tqdm import tqdm"
   ]
  },
  {
   "cell_type": "code",
   "execution_count": 2,
   "metadata": {},
   "outputs": [],
   "source": [
    "# add parent directory to path \n",
    "sys.path.append('/share/ju/urbanECG')\n"
   ]
  },
  {
   "cell_type": "code",
   "execution_count": 3,
   "metadata": {},
   "outputs": [],
   "source": [
    "from src.utils.data_pull.random_sample_DoC import ImagePull\n",
    "\n",
    "from user.params.data import * "
   ]
  },
  {
   "cell_type": "code",
   "execution_count": 4,
   "metadata": {},
   "outputs": [],
   "source": [
    "flooding = pd.read_csv('../data/coords/sep29_flooding.csv', engine='pyarrow')"
   ]
  },
  {
   "cell_type": "code",
   "execution_count": 5,
   "metadata": {},
   "outputs": [],
   "source": [
    "flooding = gpd.GeoDataFrame(flooding, geometry=gpd.points_from_xy(flooding.Longitude, flooding.Latitude), crs=COORD_CRS)"
   ]
  },
  {
   "cell_type": "code",
   "execution_count": 6,
   "metadata": {},
   "outputs": [],
   "source": [
    "flooding = flooding.to_crs(PROJ_CRS)"
   ]
  },
  {
   "cell_type": "code",
   "execution_count": 7,
   "metadata": {},
   "outputs": [
    {
     "name": "stderr",
     "output_type": "stream",
     "text": [
      "INFO:src.utils.data_pull.random_sample_DoC:Read 41 csvs corresponding to valid h3 hexagons from /share/ju/nexar_data/2023/2023-09-29\n",
      "Reading image metadata csvs from /share/ju/nexar_data/2023/2023-09-29: 100%|██████████████████████████████████████████████████████████| 41/41 [00:01<00:00, 36.86it/s]\n",
      "INFO:src.utils.data_pull.random_sample_DoC:Concatenating image metadata csvs from /share/ju/nexar_data/2023/2023-09-29...\n",
      "INFO:src.utils.data_pull.random_sample_DoC:Read 926221 images from /share/ju/nexar_data/2023/2023-09-29\n",
      "INFO:src.utils.data_pull.random_sample_DoC:Filtered out 9 images that are not on disk\n",
      "INFO:src.utils.data_pull.random_sample_DoC:Initialized ImagePull with DoC=2023-09-29\n"
     ]
    }
   ],
   "source": [
    "nexar_pull = ImagePull(\"/share/ju/nexar_data/2023\", \"2023-09-29\")"
   ]
  },
  {
   "cell_type": "code",
   "execution_count": 8,
   "metadata": {},
   "outputs": [
    {
     "data": {
      "text/plain": [
       "['WATER SUPPLY',\n",
       " 'Sewer Backup (Use Comments) (SA)',\n",
       " 'SLOW LEAK',\n",
       " 'HEAVY FLOW',\n",
       " 'Street Flooding (SJ)',\n",
       " 'Catch Basin Clogged/Flooding (Use Comments) (SC)',\n",
       " 'Excessive Water In Basement (WEFB)',\n",
       " 'Failure To Retain Water/Improper Drainage- (LL103/89)',\n",
       " 'Leak (Use Comments) (WA2)',\n",
       " 'Dirty Water (WE)',\n",
       " 'Sewage Leak',\n",
       " 'Manhole Overflow (Use Comments) (SA1)',\n",
       " 'Highway Flooding (SH)',\n",
       " 'Hydrant Leaking (WC1)',\n",
       " 'Overflowing',\n",
       " 'Puddle on Sidewalk']"
      ]
     },
     "execution_count": 8,
     "metadata": {},
     "output_type": "execute_result"
    }
   ],
   "source": [
    "descriptors = list(flooding['Descriptor'].unique())\n",
    "descriptors"
   ]
  },
  {
   "cell_type": "code",
   "execution_count": null,
   "metadata": {},
   "outputs": [],
   "source": []
  },
  {
   "cell_type": "code",
   "execution_count": 10,
   "metadata": {},
   "outputs": [
    {
     "name": "stderr",
     "output_type": "stream",
     "text": [
      "INFO:src.utils.data_pull.random_sample_DoC:Filtering images to only include images within 30 minutes of nearest event in coords...\n",
      "WARNING:src.utils.data_pull.random_sample_DoC:Number of images in image_list is less than 1000, returning all images in image_list\n",
      "Copying images to output/flooding_929_WATER SUPPLY_1000_2023-09-29: 100%|███████████████████████████████████████████████████████████| 572/572 [00:19<00:00, 30.07it/s]\n",
      "INFO:src.utils.data_pull.random_sample_DoC:Successfully copied 572 images to output/flooding_929_WATER SUPPLY_1000_2023-09-29\n",
      "INFO:src.utils.data_pull.random_sample_DoC:Filtering images to only include images within 30 minutes of nearest event in coords...\n",
      "Copying images to output/flooding_929_Sewer Backup (Use Comments) (SA)_1000_2023-09-29: 100%|█████████████████████████████████████| 1000/1000 [00:45<00:00, 21.76it/s]\n",
      "INFO:src.utils.data_pull.random_sample_DoC:Successfully copied 1000 images to output/flooding_929_Sewer Backup (Use Comments) (SA)_1000_2023-09-29\n",
      "INFO:src.utils.data_pull.random_sample_DoC:Filtering images to only include images within 30 minutes of nearest event in coords...\n",
      "Copying images to output/flooding_929_SLOW LEAK_1000_2023-09-29: 100%|████████████████████████████████████████████████████████████| 1000/1000 [00:43<00:00, 22.83it/s]\n",
      "INFO:src.utils.data_pull.random_sample_DoC:Successfully copied 1000 images to output/flooding_929_SLOW LEAK_1000_2023-09-29\n",
      "INFO:src.utils.data_pull.random_sample_DoC:Filtering images to only include images within 30 minutes of nearest event in coords...\n",
      "Copying images to output/flooding_929_HEAVY FLOW_1000_2023-09-29: 100%|███████████████████████████████████████████████████████████| 1000/1000 [00:43<00:00, 23.10it/s]\n",
      "INFO:src.utils.data_pull.random_sample_DoC:Successfully copied 1000 images to output/flooding_929_HEAVY FLOW_1000_2023-09-29\n",
      "INFO:src.utils.data_pull.random_sample_DoC:Filtering images to only include images within 30 minutes of nearest event in coords...\n",
      "Copying images to output/flooding_929_Street Flooding (SJ)_1000_2023-09-29: 100%|█████████████████████████████████████████████████| 1000/1000 [00:41<00:00, 24.11it/s]\n",
      "INFO:src.utils.data_pull.random_sample_DoC:Successfully copied 1000 images to output/flooding_929_Street Flooding (SJ)_1000_2023-09-29\n",
      "INFO:src.utils.data_pull.random_sample_DoC:Filtering images to only include images within 30 minutes of nearest event in coords...\n",
      "Copying images to output/flooding_929_Catch Basin Clogged/Flooding (Use Comments) (SC)_1000_2023-09-29: 100%|█████████████████████| 1000/1000 [00:42<00:00, 23.41it/s]\n",
      "INFO:src.utils.data_pull.random_sample_DoC:Successfully copied 1000 images to output/flooding_929_Catch Basin Clogged/Flooding (Use Comments) (SC)_1000_2023-09-29\n",
      "INFO:src.utils.data_pull.random_sample_DoC:Filtering images to only include images within 30 minutes of nearest event in coords...\n",
      "WARNING:src.utils.data_pull.random_sample_DoC:Number of images in image_list is less than 1000, returning all images in image_list\n",
      "Copying images to output/flooding_929_Excessive Water In Basement (WEFB)_1000_2023-09-29: 100%|█████████████████████████████████████| 484/484 [00:18<00:00, 25.79it/s]\n",
      "INFO:src.utils.data_pull.random_sample_DoC:Successfully copied 484 images to output/flooding_929_Excessive Water In Basement (WEFB)_1000_2023-09-29\n",
      "INFO:src.utils.data_pull.random_sample_DoC:Filtering images to only include images within 30 minutes of nearest event in coords...\n",
      "WARNING:src.utils.data_pull.random_sample_DoC:Number of images in image_list is less than 1000, returning all images in image_list\n",
      "Copying images to output/flooding_929_Failure To Retain Water/Improper Drainage- (LL103/89)_1000_2023-09-29: 100%|████████████████████| 95/95 [00:04<00:00, 23.41it/s]\n",
      "INFO:src.utils.data_pull.random_sample_DoC:Successfully copied 95 images to output/flooding_929_Failure To Retain Water/Improper Drainage- (LL103/89)_1000_2023-09-29\n",
      "INFO:src.utils.data_pull.random_sample_DoC:Filtering images to only include images within 30 minutes of nearest event in coords...\n",
      "WARNING:src.utils.data_pull.random_sample_DoC:Number of images in image_list is less than 1000, returning all images in image_list\n",
      "Copying images to output/flooding_929_Leak (Use Comments) (WA2)_1000_2023-09-29: 100%|██████████████████████████████████████████████| 368/368 [00:12<00:00, 28.83it/s]\n",
      "INFO:src.utils.data_pull.random_sample_DoC:Successfully copied 368 images to output/flooding_929_Leak (Use Comments) (WA2)_1000_2023-09-29\n",
      "INFO:src.utils.data_pull.random_sample_DoC:Filtering images to only include images within 30 minutes of nearest event in coords...\n",
      "WARNING:src.utils.data_pull.random_sample_DoC:Number of images in image_list is less than 1000, returning all images in image_list\n",
      "Copying images to output/flooding_929_Dirty Water (WE)_1000_2023-09-29: 100%|███████████████████████████████████████████████████████| 363/363 [00:13<00:00, 26.15it/s]\n",
      "INFO:src.utils.data_pull.random_sample_DoC:Successfully copied 363 images to output/flooding_929_Dirty Water (WE)_1000_2023-09-29\n",
      "INFO:src.utils.data_pull.random_sample_DoC:Filtering images to only include images within 30 minutes of nearest event in coords...\n",
      "WARNING:src.utils.data_pull.random_sample_DoC:Number of images in image_list is less than 1000, returning all images in image_list\n",
      "Copying images to output/flooding_929_Sewage Leak_1000_2023-09-29: 100%|██████████████████████████████████████████████████████████████| 91/91 [00:04<00:00, 22.63it/s]\n",
      "INFO:src.utils.data_pull.random_sample_DoC:Successfully copied 91 images to output/flooding_929_Sewage Leak_1000_2023-09-29\n",
      "INFO:src.utils.data_pull.random_sample_DoC:Filtering images to only include images within 30 minutes of nearest event in coords...\n",
      "WARNING:src.utils.data_pull.random_sample_DoC:Number of images in image_list is less than 1000, returning all images in image_list\n",
      "Copying images to output/flooding_929_Manhole Overflow (Use Comments) (SA1)_1000_2023-09-29: 100%|██████████████████████████████████| 135/135 [00:05<00:00, 25.80it/s]\n",
      "INFO:src.utils.data_pull.random_sample_DoC:Successfully copied 135 images to output/flooding_929_Manhole Overflow (Use Comments) (SA1)_1000_2023-09-29\n",
      "INFO:src.utils.data_pull.random_sample_DoC:Filtering images to only include images within 30 minutes of nearest event in coords...\n",
      "WARNING:src.utils.data_pull.random_sample_DoC:Number of images in image_list is less than 1000, returning all images in image_list\n",
      "Copying images to output/flooding_929_Highway Flooding (SH)_1000_2023-09-29: 100%|██████████████████████████████████████████████████| 136/136 [00:05<00:00, 25.64it/s]\n",
      "INFO:src.utils.data_pull.random_sample_DoC:Successfully copied 136 images to output/flooding_929_Highway Flooding (SH)_1000_2023-09-29\n",
      "INFO:src.utils.data_pull.random_sample_DoC:Filtering images to only include images within 30 minutes of nearest event in coords...\n",
      "WARNING:src.utils.data_pull.random_sample_DoC:Number of images in image_list is less than 1000, returning all images in image_list\n",
      "Copying images to output/flooding_929_Hydrant Leaking (WC1)_1000_2023-09-29: 100%|████████████████████████████████████████████████████| 35/35 [00:01<00:00, 23.55it/s]\n",
      "INFO:src.utils.data_pull.random_sample_DoC:Successfully copied 35 images to output/flooding_929_Hydrant Leaking (WC1)_1000_2023-09-29\n",
      "INFO:src.utils.data_pull.random_sample_DoC:Filtering images to only include images within 30 minutes of nearest event in coords...\n",
      "WARNING:src.utils.data_pull.random_sample_DoC:Number of images in image_list is less than 1000, returning all images in image_list\n",
      "Copying images to output/flooding_929_Overflowing_1000_2023-09-29: 100%|██████████████████████████████████████████████████████████████| 31/31 [00:01<00:00, 21.67it/s]\n",
      "INFO:src.utils.data_pull.random_sample_DoC:Successfully copied 31 images to output/flooding_929_Overflowing_1000_2023-09-29\n",
      "INFO:src.utils.data_pull.random_sample_DoC:Filtering images to only include images within 30 minutes of nearest event in coords...\n",
      "WARNING:src.utils.data_pull.random_sample_DoC:Number of images in image_list is less than 1000, returning all images in image_list\n"
     ]
    },
    {
     "name": "stderr",
     "output_type": "stream",
     "text": [
      "Copying images to output/flooding_929_Puddle on Sidewalk_1000_2023-09-29: 100%|█████████████████████████████████████████████████████████| 1/1 [00:00<00:00,  6.69it/s]\n",
      "INFO:src.utils.data_pull.random_sample_DoC:Successfully copied 1 images to output/flooding_929_Puddle on Sidewalk_1000_2023-09-29\n"
     ]
    }
   ],
   "source": [
    "for descriptor in descriptors: \n",
    "    nexar_pull.pull_images(1000, f\"flooding_929_{descriptor}\", coords=flooding[flooding['Descriptor'] == descriptor].copy(), proximity=250, time_delta=30)\n",
    "    "
   ]
  },
  {
   "cell_type": "code",
   "execution_count": null,
   "metadata": {},
   "outputs": [],
   "source": []
  }
 ],
 "metadata": {
  "kernelspec": {
   "display_name": "Python [conda env:urbanekg] *",
   "language": "python",
   "name": "conda-env-urbanekg-py"
  },
  "language_info": {
   "codemirror_mode": {
    "name": "ipython",
    "version": 3
   },
   "file_extension": ".py",
   "mimetype": "text/x-python",
   "name": "python",
   "nbconvert_exporter": "python",
   "pygments_lexer": "ipython3",
   "version": "3.11.5"
  },
  "toc": {
   "base_numbering": 1,
   "nav_menu": {},
   "number_sections": true,
   "sideBar": true,
   "skip_h1_title": false,
   "title_cell": "Table of Contents",
   "title_sidebar": "Contents",
   "toc_cell": false,
   "toc_position": {},
   "toc_section_display": true,
   "toc_window_display": false
  }
 },
 "nbformat": 4,
 "nbformat_minor": 2
}

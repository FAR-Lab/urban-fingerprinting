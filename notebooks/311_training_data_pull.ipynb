{
 "cells": [
  {
   "cell_type": "code",
   "execution_count": 1,
   "metadata": {},
   "outputs": [],
   "source": [
    "import os \n",
    "import sys \n",
    "import glob \n",
    "import pandas as pd \n",
    "import geopandas as gpd\n",
    "from tqdm import tqdm"
   ]
  },
  {
   "cell_type": "code",
   "execution_count": 2,
   "metadata": {},
   "outputs": [],
   "source": [
    "# add parent directory to path \n",
    "sys.path.append('/share/ju/urbanECG')\n"
   ]
  },
  {
   "cell_type": "code",
   "execution_count": 3,
   "metadata": {},
   "outputs": [
    {
     "name": "stderr",
     "output_type": "stream",
     "text": [
      "/share/ju/conda_virtualenvs/urbanekg/lib/python3.11/site-packages/tqdm/auto.py:21: TqdmWarning: IProgress not found. Please update jupyter and ipywidgets. See https://ipywidgets.readthedocs.io/en/stable/user_install.html\n",
      "  from .autonotebook import tqdm as notebook_tqdm\n"
     ]
    }
   ],
   "source": [
    "from src.utils.data_pull.random_sample_DoC import ImagePull\n",
    "\n",
    "from user.params.data import * "
   ]
  },
  {
   "cell_type": "code",
   "execution_count": 4,
   "metadata": {},
   "outputs": [],
   "source": [
    "flooding = pd.read_csv('../data/coords/sep29_flooding.csv', engine='pyarrow')"
   ]
  },
  {
   "cell_type": "code",
   "execution_count": 5,
   "metadata": {},
   "outputs": [],
   "source": [
    "flooding = gpd.GeoDataFrame(flooding, geometry=gpd.points_from_xy(flooding.Longitude, flooding.Latitude), crs=COORD_CRS)"
   ]
  },
  {
   "cell_type": "code",
   "execution_count": 6,
   "metadata": {},
   "outputs": [],
   "source": [
    "flooding = flooding.to_crs(PROJ_CRS)"
   ]
  },
  {
   "cell_type": "code",
   "execution_count": 7,
   "metadata": {},
   "outputs": [
    {
     "name": "stderr",
     "output_type": "stream",
     "text": [
      "INFO:src.utils.data_pull.random_sample_DoC:Read 41 csvs corresponding to valid h3 hexagons from /share/ju/nexar_data/2023/2023-09-29\n",
      "Reading image metadata csvs from /share/ju/nexar_data/2023/2023-09-29: 100%|██████████| 41/41 [00:01<00:00, 37.11it/s]\n",
      "INFO:src.utils.data_pull.random_sample_DoC:Concatenating image metadata csvs from /share/ju/nexar_data/2023/2023-09-29...\n",
      "INFO:src.utils.data_pull.random_sample_DoC:Read 926221 images from /share/ju/nexar_data/2023/2023-09-29\n",
      "INFO:src.utils.data_pull.random_sample_DoC:Filtered out 9 images that are not on disk\n",
      "INFO:src.utils.data_pull.random_sample_DoC:Initialized ImagePull with DoC=2023-09-29\n"
     ]
    }
   ],
   "source": [
    "nexar_pull = ImagePull(\"/share/ju/nexar_data/2023\", \"2023-09-29\")"
   ]
  },
  {
   "cell_type": "code",
   "execution_count": 8,
   "metadata": {},
   "outputs": [
    {
     "data": {
      "text/plain": [
       "['WATER SUPPLY',\n",
       " 'Sewer Backup (Use Comments) (SA)',\n",
       " 'SLOW LEAK',\n",
       " 'HEAVY FLOW',\n",
       " 'Street Flooding (SJ)',\n",
       " 'Catch Basin Clogged/Flooding (Use Comments) (SC)',\n",
       " 'Excessive Water In Basement (WEFB)',\n",
       " 'Failure To Retain Water/Improper Drainage- (LL103/89)',\n",
       " 'Leak (Use Comments) (WA2)',\n",
       " 'Dirty Water (WE)',\n",
       " 'Sewage Leak',\n",
       " 'Manhole Overflow (Use Comments) (SA1)',\n",
       " 'Highway Flooding (SH)',\n",
       " 'Hydrant Leaking (WC1)',\n",
       " 'Overflowing',\n",
       " 'Puddle on Sidewalk']"
      ]
     },
     "execution_count": 8,
     "metadata": {},
     "output_type": "execute_result"
    }
   ],
   "source": [
    "descriptors = list(flooding['Descriptor'].unique())\n",
    "descriptors"
   ]
  },
  {
   "cell_type": "code",
   "execution_count": null,
   "metadata": {},
   "outputs": [],
   "source": []
  },
  {
   "cell_type": "code",
   "execution_count": 9,
   "metadata": {},
   "outputs": [
    {
     "name": "stderr",
     "output_type": "stream",
     "text": [
      "INFO:src.utils.data_pull.random_sample_DoC:Filtering images to only include images within 50 feet of coords...\n",
      "INFO:src.utils.data_pull.random_sample_DoC:First run: converting image_list to geodataframe...\n",
      "INFO:src.utils.data_pull.random_sample_DoC:Filtering images to only include images within 120 minutes of nearest event in coords...\n",
      "WARNING:src.utils.data_pull.random_sample_DoC:Number of images in image_list is less than 10000, returning all images in image_list\n",
      "Copying images to output/flooding_929_WATER SUPPLY_10000_2023-09-29: 100%|██████████| 68/68 [00:02<00:00, 26.68it/s]\n",
      "INFO:src.utils.data_pull.random_sample_DoC:Successfully copied 68 images to output/flooding_929_WATER SUPPLY_10000_2023-09-29\n",
      "INFO:src.utils.data_pull.random_sample_DoC:Filtering images to only include images within 50 feet of coords...\n",
      "INFO:src.utils.data_pull.random_sample_DoC:Filtering images to only include images within 120 minutes of nearest event in coords...\n",
      "WARNING:src.utils.data_pull.random_sample_DoC:Number of images in image_list is less than 10000, returning all images in image_list\n",
      "Copying images to output/flooding_929_Sewer Backup (Use Comments) (SA)_10000_2023-09-29: 100%|██████████| 475/475 [00:16<00:00, 28.28it/s]\n",
      "INFO:src.utils.data_pull.random_sample_DoC:Successfully copied 475 images to output/flooding_929_Sewer Backup (Use Comments) (SA)_10000_2023-09-29\n",
      "INFO:src.utils.data_pull.random_sample_DoC:Filtering images to only include images within 50 feet of coords...\n",
      "INFO:src.utils.data_pull.random_sample_DoC:Filtering images to only include images within 120 minutes of nearest event in coords...\n",
      "WARNING:src.utils.data_pull.random_sample_DoC:Number of images in image_list is less than 10000, returning all images in image_list\n",
      "Copying images to output/flooding_929_SLOW LEAK_10000_2023-09-29: 100%|██████████| 355/355 [00:13<00:00, 26.72it/s]\n",
      "INFO:src.utils.data_pull.random_sample_DoC:Successfully copied 355 images to output/flooding_929_SLOW LEAK_10000_2023-09-29\n",
      "INFO:src.utils.data_pull.random_sample_DoC:Filtering images to only include images within 50 feet of coords...\n",
      "INFO:src.utils.data_pull.random_sample_DoC:Filtering images to only include images within 120 minutes of nearest event in coords...\n",
      "WARNING:src.utils.data_pull.random_sample_DoC:Number of images in image_list is less than 10000, returning all images in image_list\n",
      "Copying images to output/flooding_929_HEAVY FLOW_10000_2023-09-29: 100%|██████████| 609/609 [00:20<00:00, 30.39it/s]\n",
      "INFO:src.utils.data_pull.random_sample_DoC:Successfully copied 609 images to output/flooding_929_HEAVY FLOW_10000_2023-09-29\n",
      "INFO:src.utils.data_pull.random_sample_DoC:Filtering images to only include images within 50 feet of coords...\n",
      "INFO:src.utils.data_pull.random_sample_DoC:Filtering images to only include images within 120 minutes of nearest event in coords...\n",
      "WARNING:src.utils.data_pull.random_sample_DoC:Number of images in image_list is less than 10000, returning all images in image_list\n",
      "Copying images to output/flooding_929_Street Flooding (SJ)_10000_2023-09-29: 100%|██████████| 278/278 [00:09<00:00, 27.93it/s]\n",
      "INFO:src.utils.data_pull.random_sample_DoC:Successfully copied 278 images to output/flooding_929_Street Flooding (SJ)_10000_2023-09-29\n",
      "INFO:src.utils.data_pull.random_sample_DoC:Filtering images to only include images within 50 feet of coords...\n",
      "INFO:src.utils.data_pull.random_sample_DoC:Filtering images to only include images within 120 minutes of nearest event in coords...\n",
      "WARNING:src.utils.data_pull.random_sample_DoC:Number of images in image_list is less than 10000, returning all images in image_list\n",
      "Copying images to output/flooding_929_Catch Basin Clogged/Flooding (Use Comments) (SC)_10000_2023-09-29: 100%|██████████| 239/239 [00:08<00:00, 28.86it/s]\n",
      "INFO:src.utils.data_pull.random_sample_DoC:Successfully copied 239 images to output/flooding_929_Catch Basin Clogged/Flooding (Use Comments) (SC)_10000_2023-09-29\n",
      "INFO:src.utils.data_pull.random_sample_DoC:Filtering images to only include images within 50 feet of coords...\n",
      "INFO:src.utils.data_pull.random_sample_DoC:Filtering images to only include images within 120 minutes of nearest event in coords...\n",
      "WARNING:src.utils.data_pull.random_sample_DoC:Number of images in image_list is less than 10000, returning all images in image_list\n",
      "Copying images to output/flooding_929_Excessive Water In Basement (WEFB)_10000_2023-09-29: 100%|██████████| 65/65 [00:02<00:00, 27.81it/s]\n",
      "INFO:src.utils.data_pull.random_sample_DoC:Successfully copied 65 images to output/flooding_929_Excessive Water In Basement (WEFB)_10000_2023-09-29\n",
      "INFO:src.utils.data_pull.random_sample_DoC:Filtering images to only include images within 50 feet of coords...\n",
      "INFO:src.utils.data_pull.random_sample_DoC:Filtering images to only include images within 120 minutes of nearest event in coords...\n",
      "WARNING:src.utils.data_pull.random_sample_DoC:Number of images in image_list is less than 10000, returning all images in image_list\n",
      "Copying images to output/flooding_929_Failure To Retain Water/Improper Drainage- (LL103/89)_10000_2023-09-29: 100%|██████████| 20/20 [00:00<00:00, 22.59it/s]\n",
      "INFO:src.utils.data_pull.random_sample_DoC:Successfully copied 20 images to output/flooding_929_Failure To Retain Water/Improper Drainage- (LL103/89)_10000_2023-09-29\n",
      "INFO:src.utils.data_pull.random_sample_DoC:Filtering images to only include images within 50 feet of coords...\n",
      "INFO:src.utils.data_pull.random_sample_DoC:Filtering images to only include images within 120 minutes of nearest event in coords...\n",
      "WARNING:src.utils.data_pull.random_sample_DoC:Number of images in image_list is less than 10000, returning all images in image_list\n",
      "Copying images to output/flooding_929_Leak (Use Comments) (WA2)_10000_2023-09-29: 100%|██████████| 62/62 [00:02<00:00, 28.38it/s]\n",
      "INFO:src.utils.data_pull.random_sample_DoC:Successfully copied 62 images to output/flooding_929_Leak (Use Comments) (WA2)_10000_2023-09-29\n",
      "INFO:src.utils.data_pull.random_sample_DoC:Filtering images to only include images within 50 feet of coords...\n",
      "INFO:src.utils.data_pull.random_sample_DoC:Filtering images to only include images within 120 minutes of nearest event in coords...\n",
      "WARNING:src.utils.data_pull.random_sample_DoC:Number of images in image_list is less than 10000, returning all images in image_list\n",
      "Copying images to output/flooding_929_Dirty Water (WE)_10000_2023-09-29: 100%|██████████| 49/49 [00:01<00:00, 30.18it/s]\n",
      "INFO:src.utils.data_pull.random_sample_DoC:Successfully copied 49 images to output/flooding_929_Dirty Water (WE)_10000_2023-09-29\n",
      "INFO:src.utils.data_pull.random_sample_DoC:Filtering images to only include images within 50 feet of coords...\n",
      "INFO:src.utils.data_pull.random_sample_DoC:Filtering images to only include images within 120 minutes of nearest event in coords...\n",
      "WARNING:src.utils.data_pull.random_sample_DoC:Number of images in image_list is less than 10000, returning all images in image_list\n",
      "Copying images to output/flooding_929_Sewage Leak_10000_2023-09-29: 100%|██████████| 7/7 [00:00<00:00, 19.50it/s]\n",
      "INFO:src.utils.data_pull.random_sample_DoC:Successfully copied 7 images to output/flooding_929_Sewage Leak_10000_2023-09-29\n",
      "INFO:src.utils.data_pull.random_sample_DoC:Filtering images to only include images within 50 feet of coords...\n",
      "INFO:src.utils.data_pull.random_sample_DoC:Filtering images to only include images within 120 minutes of nearest event in coords...\n",
      "WARNING:src.utils.data_pull.random_sample_DoC:Number of images in image_list is less than 10000, returning all images in image_list\n",
      "Copying images to output/flooding_929_Manhole Overflow (Use Comments) (SA1)_10000_2023-09-29: 100%|██████████| 14/14 [00:00<00:00, 31.07it/s]\n",
      "INFO:src.utils.data_pull.random_sample_DoC:Successfully copied 14 images to output/flooding_929_Manhole Overflow (Use Comments) (SA1)_10000_2023-09-29\n",
      "INFO:src.utils.data_pull.random_sample_DoC:Filtering images to only include images within 50 feet of coords...\n",
      "INFO:src.utils.data_pull.random_sample_DoC:Filtering images to only include images within 120 minutes of nearest event in coords...\n",
      "WARNING:src.utils.data_pull.random_sample_DoC:Number of images in image_list is less than 10000, returning all images in image_list\n",
      "Copying images to output/flooding_929_Highway Flooding (SH)_10000_2023-09-29: 100%|██████████| 23/23 [00:00<00:00, 27.07it/s]\n",
      "INFO:src.utils.data_pull.random_sample_DoC:Successfully copied 23 images to output/flooding_929_Highway Flooding (SH)_10000_2023-09-29\n",
      "INFO:src.utils.data_pull.random_sample_DoC:Filtering images to only include images within 50 feet of coords...\n",
      "INFO:src.utils.data_pull.random_sample_DoC:Filtering images to only include images within 120 minutes of nearest event in coords...\n",
      "WARNING:src.utils.data_pull.random_sample_DoC:Number of images in image_list is less than 10000, returning all images in image_list\n",
      "Copying images to output/flooding_929_Hydrant Leaking (WC1)_10000_2023-09-29: 0it [00:00, ?it/s]\n",
      "INFO:src.utils.data_pull.random_sample_DoC:Successfully copied 0 images to output/flooding_929_Hydrant Leaking (WC1)_10000_2023-09-29\n",
      "INFO:src.utils.data_pull.random_sample_DoC:Filtering images to only include images within 50 feet of coords...\n",
      "INFO:src.utils.data_pull.random_sample_DoC:Filtering images to only include images within 120 minutes of nearest event in coords...\n",
      "WARNING:src.utils.data_pull.random_sample_DoC:Number of images in image_list is less than 10000, returning all images in image_list\n",
      "Copying images to output/flooding_929_Overflowing_10000_2023-09-29: 100%|██████████| 7/7 [00:00<00:00, 17.72it/s]\n",
      "INFO:src.utils.data_pull.random_sample_DoC:Successfully copied 7 images to output/flooding_929_Overflowing_10000_2023-09-29\n",
      "INFO:src.utils.data_pull.random_sample_DoC:Filtering images to only include images within 50 feet of coords...\n",
      "INFO:src.utils.data_pull.random_sample_DoC:Filtering images to only include images within 120 minutes of nearest event in coords...\n",
      "WARNING:src.utils.data_pull.random_sample_DoC:Number of images in image_list is less than 10000, returning all images in image_list\n",
      "Copying images to output/flooding_929_Puddle on Sidewalk_10000_2023-09-29: 0it [00:00, ?it/s]\n",
      "INFO:src.utils.data_pull.random_sample_DoC:Successfully copied 0 images to output/flooding_929_Puddle on Sidewalk_10000_2023-09-29\n"
     ]
    }
   ],
   "source": [
    "for descriptor in descriptors: \n",
    "    nexar_pull.pull_images(10000, f\"flooding_929_{descriptor}\", coords=flooding[flooding['Descriptor'] == descriptor].copy(), proximity=50, time_delta=120)\n",
    "    "
   ]
  },
  {
   "cell_type": "code",
   "execution_count": null,
   "metadata": {},
   "outputs": [],
   "source": []
  },
  {
   "cell_type": "code",
   "execution_count": null,
   "metadata": {},
   "outputs": [],
   "source": []
  }
 ],
 "metadata": {
  "kernelspec": {
   "display_name": "Python 3",
   "language": "python",
   "name": "python3"
  },
  "language_info": {
   "codemirror_mode": {
    "name": "ipython",
    "version": 3
   },
   "file_extension": ".py",
   "mimetype": "text/x-python",
   "name": "python",
   "nbconvert_exporter": "python",
   "pygments_lexer": "ipython3",
   "version": "3.11.5"
  },
  "toc": {
   "base_numbering": 1,
   "nav_menu": {},
   "number_sections": true,
   "sideBar": true,
   "skip_h1_title": false,
   "title_cell": "Table of Contents",
   "title_sidebar": "Contents",
   "toc_cell": false,
   "toc_position": {},
   "toc_section_display": true,
   "toc_window_display": false
  }
 },
 "nbformat": 4,
 "nbformat_minor": 2
}
